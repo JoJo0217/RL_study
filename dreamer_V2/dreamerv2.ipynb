{
 "cells": [
  {
   "cell_type": "code",
   "execution_count": 1,
   "metadata": {},
   "outputs": [
    {
     "name": "stdout",
     "output_type": "stream",
     "text": [
      "/mnt/c/Users/mingu/OneDrive/바탕 화면/성균관대/리서치인턴/공부/RL_study/dreamer_V2\n"
     ]
    }
   ],
   "source": [
    "%cd ../RL_study/dreamer_V2"
   ]
  },
  {
   "cell_type": "code",
   "execution_count": 2,
   "metadata": {},
   "outputs": [
    {
     "name": "stderr",
     "output_type": "stream",
     "text": [
      "2024-10-07 01:35:18.562152: I tensorflow/core/util/port.cc:153] oneDNN custom operations are on. You may see slightly different numerical results due to floating-point round-off errors from different computation orders. To turn them off, set the environment variable `TF_ENABLE_ONEDNN_OPTS=0`.\n",
      "2024-10-07 01:35:18.572687: E external/local_xla/xla/stream_executor/cuda/cuda_fft.cc:485] Unable to register cuFFT factory: Attempting to register factory for plugin cuFFT when one has already been registered\n",
      "2024-10-07 01:35:18.584418: E external/local_xla/xla/stream_executor/cuda/cuda_dnn.cc:8454] Unable to register cuDNN factory: Attempting to register factory for plugin cuDNN when one has already been registered\n",
      "2024-10-07 01:35:18.587755: E external/local_xla/xla/stream_executor/cuda/cuda_blas.cc:1452] Unable to register cuBLAS factory: Attempting to register factory for plugin cuBLAS when one has already been registered\n",
      "2024-10-07 01:35:18.597579: I tensorflow/core/platform/cpu_feature_guard.cc:210] This TensorFlow binary is optimized to use available CPU instructions in performance-critical operations.\n",
      "To enable the following instructions: AVX2 AVX_VNNI FMA, in other operations, rebuild TensorFlow with the appropriate compiler flags.\n",
      "2024-10-07 01:35:19.230437: W tensorflow/compiler/tf2tensorrt/utils/py_utils.cc:38] TF-TRT Warning: Could not find TensorRT\n"
     ]
    }
   ],
   "source": [
    "import torch\n",
    "import torch.optim as optim\n",
    "import numpy as np\n",
    "import random\n",
    "import argparse\n",
    "import gymnasium as gym\n",
    "\n",
    "from tqdm import tqdm\n",
    "from logger import Logger\n",
    "from models import *\n",
    "from utils import *"
   ]
  },
  {
   "cell_type": "code",
   "execution_count": 3,
   "metadata": {},
   "outputs": [],
   "source": [
    "def parse_args():\n",
    "    parser = argparse.ArgumentParser()\n",
    "    parser.add_argument(\"--output\", type=str, default=\"./output\")\n",
    "    parser.add_argument(\"--total_episode\", type=int, default=4000)\n",
    "    parser.add_argument(\"--seed_episode\", type=int, default=5)\n",
    "    parser.add_argument(\"--collect_episode\", type=int, default=3)\n",
    "    parser.add_argument(\"--train_step\", type=int, default=50)\n",
    "    parser.add_argument(\"--batch_size\", type=int, default=50)\n",
    "    parser.add_argument(\"--batch_seq\", type=int, default=50)\n",
    "    parser.add_argument(\"--horizon\", type=int, default=50)\n",
    "    parser.add_argument(\"--logdir\", type=str, default=\"./logs\")\n",
    "    parser.add_argument(\"--logging_step\", type=int, default=1)\n",
    "    parser.add_argument(\"--eval_step\", type=int, default=3)\n",
    "    parser.add_argument(\"--save_step\", type=int, default=20)\n",
    "    parser.add_argument(\"--seed\", type=int, default=42)\n",
    "    parser.add_argument(\"--deterministic_size\", type=int, default=256)\n",
    "    parser.add_argument(\"--state_size\", type=int, default=1024)\n",
    "    parser.add_argument(\"--hidden_size\", type=int, default=256)\n",
    "    parser.add_argument(\"--observation_size\", type=int, default=128) \n",
    "    parser.add_argument(\"--categorical_size\", type=int, default=32)\n",
    "    parser.add_argument(\"--class_size\", type=int, default=32)\n",
    "    parser.add_argument(\"--discrete_action\", type=bool, default=True)\n",
    "    parser.add_argument(\"--continuous_action\", type=bool, default=True)\n",
    "    parser.add_argument(\"--model_lr\", type=float, default=1e-4)\n",
    "    parser.add_argument(\"--actor_lr\", type=float, default=1e-4)\n",
    "    parser.add_argument(\"--critic_lr\", type=float, default=1e-4)\n",
    "    parser.add_argument(\"--kl_beta\", type=int, default=1)\n",
    "    parser.add_argument(\"--kl_alpha\", type=float, default=0.8)\n",
    "    parser.add_argument(\"--lambda_\", type=float, default=0.95)\n",
    "    parser.add_argument(\"--entropy_coef\", type=float, default=1e-4)\n",
    "    parser.add_argument(\"--reinforce_coef\", type=float, default=1)\n",
    "    parser.add_argument(\"--clip_grad\", type=float, default=100)\n",
    "    args = parser.parse_args(args=[])\n",
    "\n",
    "    return args\n"
   ]
  },
  {
   "cell_type": "code",
   "execution_count": 4,
   "metadata": {},
   "outputs": [
    {
     "name": "stdout",
     "output_type": "stream",
     "text": [
      "action_dim: 1 obs_shape: 2\n"
     ]
    }
   ],
   "source": [
    "args = parse_args()\n",
    "env= gym.make(\"MountainCarContinuous-v0\", render_mode=\"rgb_array\")\n",
    "set_seed(args.seed)\n",
    "\n",
    "device = torch.device(\"cuda\" if torch.cuda.is_available() else \"cpu\")\n",
    "action_dim = 1\n",
    "obs_shape = env.observation_space.shape[0]\n",
    "print(\"action_dim:\", action_dim, \"obs_shape:\", obs_shape)"
   ]
  },
  {
   "cell_type": "code",
   "execution_count": 5,
   "metadata": {},
   "outputs": [],
   "source": [
    "encoder = Encoder2D(args, obs_shape).to(device)\n",
    "recurrent = RSSM(args, action_dim).to(device)\n",
    "representation = RepresentationModel(args).to(device)\n",
    "transition = TransitionModel(args).to(device)\n",
    "decoder = Decoder2D(args, obs_shape).to(device)\n",
    "reward = RewardModel(args).to(device)\n",
    "discount = DiscountModel(args).to(device)\n",
    "\n",
    "\n",
    "model_params = list(encoder.parameters()) + list(recurrent.parameters()) + \\\n",
    "    list(representation.parameters()) + list(transition.parameters()) + \\\n",
    "        list(decoder.parameters()) + list(reward.parameters()) + list(discount.parameters())\n",
    "\n",
    "actor = ActionContinuous(args, action_dim).to(device)\n",
    "critic = Value(args).to(device)\n",
    "target_net = Value(args).to(device)\n",
    "for param_p, paran_k in zip(target_net.parameters(), critic.parameters()):\n",
    "    param_p.data.copy_(paran_k.data)\n",
    "    param_p.requires_grad = False\n",
    "\n",
    "model_optim = optim.Adam(model_params, lr=args.model_lr)\n",
    "actor_optim = optim.Adam(actor.parameters(), lr=args.actor_lr)\n",
    "critic_optim = optim.Adam(critic.parameters(), lr=args.critic_lr)\n",
    "\n",
    "replay_buffer = ReplayBufferSeq(100000, (obs_shape,), action_dim)\n",
    "logger = Logger(args.logdir)"
   ]
  },
  {
   "cell_type": "code",
   "execution_count": 7,
   "metadata": {},
   "outputs": [
    {
     "name": "stdout",
     "output_type": "stream",
     "text": [
      "collecting seed data...\n"
     ]
    },
    {
     "name": "stderr",
     "output_type": "stream",
     "text": [
      "  0%|                                                                                                           | 0/5 [00:00<?, ?it/s]"
     ]
    },
    {
     "name": "stderr",
     "output_type": "stream",
     "text": [
      "100%|███████████████████████████████████████████████████████████████████████████████████████████████████| 5/5 [00:00<00:00, 30.69it/s]"
     ]
    },
    {
     "name": "stdout",
     "output_type": "stream",
     "text": [
      "4995\n"
     ]
    },
    {
     "name": "stderr",
     "output_type": "stream",
     "text": [
      "\n"
     ]
    },
    {
     "name": "stdout",
     "output_type": "stream",
     "text": [
      "2024-10-07 01:35:21,868 global_step: 0,epoch: 0, kl_loss: 0.06952646374702454, obs_loss: 2.021409034729004, reward_loss: 0.9241670370101929, discount_loss: 0.6986076831817627, \n"
     ]
    }
   ],
   "source": [
    "world_model= (encoder, recurrent, representation, transition, decoder, reward, discount)\n",
    "seed_episode(env, replay_buffer, args.seed_episode)\n",
    "for episode in range(args.total_episode):\n",
    "    batch = replay_buffer.sample(args.batch_size,args.batch_seq)\n",
    "    for step in range(args.train_step):\n",
    "        print(len(replay_buffer))\n",
    "        loss, states, deters = train_world(args, batch, world_model,model_optim,model_params, device)\n",
    "        logger.log(episode*step+step,epoch=episode, **loss)\n",
    "        loss = train_actor_critic(args, states, deters, world_model, actor, critic, target_net, actor_optim, critic_optim, device)\n",
    "        logger.log(episode*step+step,epoch=episode, **loss)\n",
    "    train_score=collect_data(args, env, action_dim, args.collect_episode, world_model, actor, replay_buffer, device)\n",
    "    logger.log(episode*step+step,epoch=episode, train_score=train_score)\n",
    "    if episode % args.eval_step == 0:\n",
    "        test_score = evaluate(args, env, action_dim, args.collect_episode, world_model, actor, replay_buffer, device, is_render=True)\n",
    "        logger.log(episode*step+step,epoch=episode, test_score=test_score)\n",
    "\n",
    "    if episode % args.save_step == 0 :\n",
    "        save_model(args,world_model, actor, critic)\n",
    "        "
   ]
  }
 ],
 "metadata": {
  "kernelspec": {
   "display_name": "Python 3 (ipykernel)",
   "language": "python",
   "name": "python3"
  },
  "language_info": {
   "codemirror_mode": {
    "name": "ipython",
    "version": 3
   },
   "file_extension": ".py",
   "mimetype": "text/x-python",
   "name": "python",
   "nbconvert_exporter": "python",
   "pygments_lexer": "ipython3",
   "version": "3.10.12"
  }
 },
 "nbformat": 4,
 "nbformat_minor": 2
}
